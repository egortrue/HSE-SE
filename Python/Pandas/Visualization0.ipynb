version https://git-lfs.github.com/spec/v1
oid sha256:70fc334a2ba21d5dd646cff83fadb3ad8b4017637fe4a910b9fb3e2a4f5411d5
size 293309
